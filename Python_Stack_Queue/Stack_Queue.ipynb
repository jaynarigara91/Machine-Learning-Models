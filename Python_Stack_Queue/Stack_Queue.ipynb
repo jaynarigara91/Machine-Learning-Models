{
 "cells": [
  {
   "cell_type": "code",
   "execution_count": 13,
   "metadata": {},
   "outputs": [
    {
     "name": "stdout",
     "output_type": "stream",
     "text": [
      "[40, 30, 20, 10]\n",
      "40\n"
     ]
    },
    {
     "data": {
      "text/plain": [
       "[30, 20, 10]"
      ]
     },
     "execution_count": 13,
     "metadata": {},
     "output_type": "execute_result"
    }
   ],
   "source": [
    "class stack:\n",
    "    def __init__(self):\n",
    "        self.values = []\n",
    "    def push(self,x):\n",
    "        self.values = [x]+self.values\n",
    "        return self.values\n",
    "    def pop(self):\n",
    "        return self.values.pop(0)\n",
    "s1 = stack()\n",
    "s1.push(10)\n",
    "s1.push(20)\n",
    "s1.push(30)\n",
    "print(s1.push(40))\n",
    "print(s1.pop())\n",
    "s1.values"
   ]
  },
  {
   "cell_type": "code",
   "execution_count": 17,
   "metadata": {},
   "outputs": [
    {
     "data": {
      "text/plain": [
       "[20, 30, 40, 50]"
      ]
     },
     "execution_count": 17,
     "metadata": {},
     "output_type": "execute_result"
    }
   ],
   "source": [
    "class queue:\n",
    "    def __init__(self):\n",
    "        self.values = []\n",
    "    def enqueue(self,x):\n",
    "        self.values.append(x)\n",
    "        return self.values\n",
    "    def dequeue(self):\n",
    "        front = self.values[0]\n",
    "        self.values = self.values[1:]\n",
    "        return self.values\n",
    "q1 = queue()\n",
    "q1.enqueue(10)\n",
    "q1.enqueue(20)\n",
    "q1.enqueue(30)\n",
    "q1.enqueue(40)\n",
    "q1.enqueue(50)\n",
    "q1.dequeue()\n",
    "q1.values"
   ]
  }
 ],
 "metadata": {
  "kernelspec": {
   "display_name": "bia",
   "language": "python",
   "name": "python3"
  },
  "language_info": {
   "codemirror_mode": {
    "name": "ipython",
    "version": 3
   },
   "file_extension": ".py",
   "mimetype": "text/x-python",
   "name": "python",
   "nbconvert_exporter": "python",
   "pygments_lexer": "ipython3",
   "version": "3.10.14"
  }
 },
 "nbformat": 4,
 "nbformat_minor": 2
}
