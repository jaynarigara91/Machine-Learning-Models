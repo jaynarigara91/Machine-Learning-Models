{
 "cells": [
  {
   "cell_type": "code",
   "execution_count": 1,
   "metadata": {},
   "outputs": [],
   "source": [
    "import pandas as pd\n",
    "import numpy as np\n",
    "import mysql.connector as conn"
   ]
  },
  {
   "cell_type": "code",
   "execution_count": 2,
   "metadata": {},
   "outputs": [
    {
     "name": "stdout",
     "output_type": "stream",
     "text": [
      "<mysql.connector.connection_cext.CMySQLConnection object at 0x000001F010332C50>\n"
     ]
    }
   ],
   "source": [
    "db = conn.connect(\n",
    "    host = 'localhost',\n",
    "    user = 'root',\n",
    "    password = 'Jayesh@91'\n",
    ")\n",
    "\n",
    "print(db)"
   ]
  },
  {
   "cell_type": "markdown",
   "metadata": {},
   "source": [
    "# Create DataBase"
   ]
  },
  {
   "cell_type": "code",
   "execution_count": 3,
   "metadata": {},
   "outputs": [],
   "source": [
    "mycursor = db.cursor()\n",
    "mycursor.execute('drop database if exists school')\n",
    "mycursor.execute('create database school')\n",
    "db.commit()"
   ]
  },
  {
   "cell_type": "code",
   "execution_count": 4,
   "metadata": {},
   "outputs": [
    {
     "name": "stdout",
     "output_type": "stream",
     "text": [
      "('collage',)\n",
      "('demodb',)\n",
      "('ecom',)\n",
      "('ecommerce',)\n",
      "('information_schema',)\n",
      "('jay',)\n",
      "('learning',)\n",
      "('movie',)\n",
      "('mydata',)\n",
      "('mysql',)\n",
      "('performance_schema',)\n",
      "('pizzahut',)\n",
      "('practice',)\n",
      "('sakila',)\n",
      "('school',)\n",
      "('sys',)\n",
      "('world',)\n"
     ]
    }
   ],
   "source": [
    "mycursor = db.cursor()\n",
    "mycursor.execute('show databases')\n",
    "for i in mycursor:\n",
    "    print(i)"
   ]
  },
  {
   "cell_type": "markdown",
   "metadata": {},
   "source": [
    "# Create Table"
   ]
  },
  {
   "cell_type": "code",
   "execution_count": 5,
   "metadata": {},
   "outputs": [],
   "source": [
    "mycursor.execute('use school')"
   ]
  },
  {
   "cell_type": "code",
   "execution_count": 6,
   "metadata": {},
   "outputs": [],
   "source": [
    "mycursor.execute('drop table if exists student')\n",
    "mycursor.execute('create table student(id int primary key,name varchar(20))')\n",
    "db.commit()"
   ]
  },
  {
   "cell_type": "code",
   "execution_count": 7,
   "metadata": {},
   "outputs": [
    {
     "name": "stdout",
     "output_type": "stream",
     "text": [
      "('student',)\n"
     ]
    }
   ],
   "source": [
    "mycursor.execute('show tables')\n",
    "for i in mycursor:\n",
    "    print(i)"
   ]
  },
  {
   "cell_type": "code",
   "execution_count": 8,
   "metadata": {},
   "outputs": [],
   "source": [
    "# add column through Alter \n",
    "mycursor.execute('alter table student add column age int')\n",
    "db.commit()"
   ]
  },
  {
   "cell_type": "markdown",
   "metadata": {},
   "source": [
    "# Insert Into Tables"
   ]
  },
  {
   "cell_type": "code",
   "execution_count": 9,
   "metadata": {},
   "outputs": [],
   "source": [
    "sql = 'insert into student(id,name,age) values(%s,%s,%s)'\n",
    "val = [\n",
    "(1, 'Joy', 18),\n",
    "(2, 'Alice', 22),\n",
    "(3, 'Bob', 25),\n",
    "(4, 'Charlie', 30),\n",
    "(5, 'David', 19),\n",
    "(6, 'Eve', 24),\n",
    "(7, 'Frank', 28),\n",
    "(8, 'Grace', 21),\n",
    "(9, 'Hannah', 27),\n",
    "(10, 'Ivan', 23)\n",
    "]\n",
    "mycursor.executemany(sql,val)\n",
    "db.commit()"
   ]
  },
  {
   "cell_type": "code",
   "execution_count": 10,
   "metadata": {},
   "outputs": [
    {
     "name": "stdout",
     "output_type": "stream",
     "text": [
      "10\n"
     ]
    }
   ],
   "source": [
    "print(mycursor.rowcount)"
   ]
  },
  {
   "cell_type": "markdown",
   "metadata": {},
   "source": [
    "# Select"
   ]
  },
  {
   "cell_type": "code",
   "execution_count": 11,
   "metadata": {},
   "outputs": [
    {
     "name": "stdout",
     "output_type": "stream",
     "text": [
      "(1, 'Joy', 18)\n",
      "(2, 'Alice', 22)\n",
      "(3, 'Bob', 25)\n",
      "(4, 'Charlie', 30)\n",
      "(5, 'David', 19)\n",
      "(6, 'Eve', 24)\n",
      "(7, 'Frank', 28)\n",
      "(8, 'Grace', 21)\n",
      "(9, 'Hannah', 27)\n",
      "(10, 'Ivan', 23)\n"
     ]
    }
   ],
   "source": [
    "mycursor.execute('select * from student')\n",
    "records = mycursor.fetchall()\n",
    "for i in records:\n",
    "    print(i)"
   ]
  },
  {
   "cell_type": "code",
   "execution_count": 12,
   "metadata": {},
   "outputs": [
    {
     "name": "stdout",
     "output_type": "stream",
     "text": [
      "('Joy', 18)\n",
      "('Alice', 22)\n",
      "('Bob', 25)\n",
      "('Charlie', 30)\n",
      "('David', 19)\n",
      "('Eve', 24)\n",
      "('Frank', 28)\n",
      "('Grace', 21)\n",
      "('Hannah', 27)\n",
      "('Ivan', 23)\n"
     ]
    }
   ],
   "source": [
    "mycursor.execute('select name,age from student')\n",
    "records = mycursor.fetchall()\n",
    "for i in records:\n",
    "    print(i)"
   ]
  },
  {
   "cell_type": "markdown",
   "metadata": {},
   "source": []
  },
  {
   "cell_type": "code",
   "execution_count": 13,
   "metadata": {},
   "outputs": [
    {
     "name": "stdout",
     "output_type": "stream",
     "text": [
      "(1, 'Joy', 18)\n"
     ]
    }
   ],
   "source": [
    "mycursor.execute(\"SELECT * FROM student\")\n",
    "myresult = mycursor.fetchone()\n",
    "print(myresult)\n"
   ]
  },
  {
   "cell_type": "markdown",
   "metadata": {},
   "source": [
    "# Where"
   ]
  },
  {
   "cell_type": "code",
   "execution_count": 14,
   "metadata": {},
   "outputs": [
    {
     "name": "stdout",
     "output_type": "stream",
     "text": [
      "(6, 'Eve', 24)\n"
     ]
    }
   ],
   "source": [
    "db = conn.connect(\n",
    "    host = 'localhost',\n",
    "    user = 'root',\n",
    "    password = 'Jayesh@91'\n",
    ")\n",
    "mycursor = db.cursor()\n",
    "\n",
    "mycursor.execute('use school')\n",
    "\n",
    "mycursor.execute('select * from student where name = \"Eve\"')\n",
    "records = mycursor.fetchall()\n",
    "for i in records:\n",
    "    print(i)"
   ]
  },
  {
   "cell_type": "code",
   "execution_count": 15,
   "metadata": {},
   "outputs": [
    {
     "name": "stdout",
     "output_type": "stream",
     "text": [
      "(2, 'Alice', 22)\n",
      "(4, 'Charlie', 30)\n",
      "(6, 'Eve', 24)\n",
      "(8, 'Grace', 21)\n"
     ]
    }
   ],
   "source": [
    "mycursor.execute('select * from student where name like \"%e\"')\n",
    "records = mycursor.fetchall()\n",
    "for i in records:\n",
    "    print(i)"
   ]
  },
  {
   "cell_type": "code",
   "execution_count": 16,
   "metadata": {},
   "outputs": [
    {
     "name": "stdout",
     "output_type": "stream",
     "text": [
      "('Ivan', 10)\n",
      "('Grace', 8)\n",
      "('Eve', 6)\n",
      "('Alice', 2)\n"
     ]
    }
   ],
   "source": [
    "mycursor.execute('select name,id from student where age > 20 and age < 25  order by name desc')\n",
    "records = mycursor.fetchall()\n",
    "for i in records:\n",
    "    print(i)"
   ]
  },
  {
   "cell_type": "markdown",
   "metadata": {},
   "source": [
    "# Order By"
   ]
  },
  {
   "cell_type": "code",
   "execution_count": 17,
   "metadata": {},
   "outputs": [
    {
     "name": "stdout",
     "output_type": "stream",
     "text": [
      "(2, 'Alice', 22)\n",
      "(3, 'Bob', 25)\n",
      "(4, 'Charlie', 30)\n",
      "(5, 'David', 19)\n",
      "(6, 'Eve', 24)\n",
      "(7, 'Frank', 28)\n",
      "(8, 'Grace', 21)\n",
      "(9, 'Hannah', 27)\n",
      "(10, 'Ivan', 23)\n",
      "(1, 'Joy', 18)\n"
     ]
    }
   ],
   "source": [
    "db = conn.connect(\n",
    "    host = 'localhost',\n",
    "    user = 'root',\n",
    "    password = 'Jayesh@91'\n",
    ")\n",
    "mycursor = db.cursor()\n",
    "\n",
    "mycursor.execute('use school')\n",
    "\n",
    "mycursor.execute('select * from student order by name')\n",
    "records = mycursor.fetchall()\n",
    "for i in records:\n",
    "    print(i)"
   ]
  },
  {
   "cell_type": "code",
   "execution_count": 18,
   "metadata": {},
   "outputs": [
    {
     "name": "stdout",
     "output_type": "stream",
     "text": [
      "(10, 'Ivan', 23)\n",
      "(9, 'Hannah', 27)\n",
      "(8, 'Grace', 21)\n",
      "(7, 'Frank', 28)\n",
      "(6, 'Eve', 24)\n",
      "(5, 'David', 19)\n",
      "(4, 'Charlie', 30)\n",
      "(3, 'Bob', 25)\n",
      "(2, 'Alice', 22)\n",
      "(1, 'Joy', 18)\n"
     ]
    }
   ],
   "source": [
    "mycursor.execute('select * from student order by id desc')\n",
    "records = mycursor.fetchall()\n",
    "for i in records:\n",
    "    print(i)"
   ]
  },
  {
   "cell_type": "markdown",
   "metadata": {},
   "source": [
    "# Delete"
   ]
  },
  {
   "cell_type": "code",
   "execution_count": 19,
   "metadata": {},
   "outputs": [],
   "source": [
    "mycursor.execute('delete from student where name = \"Bob\"')\n",
    "db.commit()"
   ]
  },
  {
   "cell_type": "code",
   "execution_count": 20,
   "metadata": {},
   "outputs": [
    {
     "name": "stdout",
     "output_type": "stream",
     "text": [
      "1 Record deleted\n"
     ]
    }
   ],
   "source": [
    "print(mycursor.rowcount , 'Record deleted')"
   ]
  },
  {
   "cell_type": "code",
   "execution_count": 21,
   "metadata": {},
   "outputs": [],
   "source": [
    "mycursor.execute('delete from student where id > 9 ')\n",
    "db.commit()"
   ]
  },
  {
   "cell_type": "markdown",
   "metadata": {},
   "source": [
    "# Update"
   ]
  },
  {
   "cell_type": "markdown",
   "metadata": {},
   "source": []
  },
  {
   "cell_type": "code",
   "execution_count": 22,
   "metadata": {},
   "outputs": [],
   "source": [
    "mycursor.execute('update student set name=\"Jay\" where id =4 ')\n",
    "db.commit()"
   ]
  },
  {
   "cell_type": "markdown",
   "metadata": {},
   "source": [
    "# Limit"
   ]
  },
  {
   "cell_type": "code",
   "execution_count": 23,
   "metadata": {},
   "outputs": [
    {
     "name": "stdout",
     "output_type": "stream",
     "text": [
      "(1, 'Joy', 18)\n",
      "(2, 'Alice', 22)\n",
      "(4, 'Jay', 30)\n"
     ]
    }
   ],
   "source": [
    "mycursor.execute(\"SELECT * FROM student LIMIT 3\")\n",
    "records = mycursor.fetchall()\n",
    "for i in records:\n",
    "    print(i)"
   ]
  }
 ],
 "metadata": {
  "kernelspec": {
   "display_name": "bia",
   "language": "python",
   "name": "python3"
  },
  "language_info": {
   "codemirror_mode": {
    "name": "ipython",
    "version": 3
   },
   "file_extension": ".py",
   "mimetype": "text/x-python",
   "name": "python",
   "nbconvert_exporter": "python",
   "pygments_lexer": "ipython3",
   "version": "3.10.14"
  }
 },
 "nbformat": 4,
 "nbformat_minor": 2
}
